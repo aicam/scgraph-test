{
 "cells": [
  {
   "cell_type": "code",
   "execution_count": 1,
   "id": "1dcb40bc-35c7-4336-ad1c-805b47c12fe1",
   "metadata": {},
   "outputs": [],
   "source": [
    "f = open('../db.log')"
   ]
  },
  {
   "cell_type": "code",
   "execution_count": null,
   "id": "ebbf312f-daa4-4d6e-a2ef-de37272deaaa",
   "metadata": {},
   "outputs": [],
   "source": [
    "times = "
   ]
  }
 ],
 "metadata": {
  "kernelspec": {
   "display_name": "investai",
   "language": "python",
   "name": "investai"
  },
  "language_info": {
   "codemirror_mode": {
    "name": "ipython",
    "version": 3
   },
   "file_extension": ".py",
   "mimetype": "text/x-python",
   "name": "python",
   "nbconvert_exporter": "python",
   "pygments_lexer": "ipython3",
   "version": "3.11.9"
  }
 },
 "nbformat": 4,
 "nbformat_minor": 5
}
